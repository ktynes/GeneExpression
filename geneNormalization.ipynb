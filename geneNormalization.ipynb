{
 "cells": [
  {
   "cell_type": "code",
   "execution_count": 1,
   "metadata": {},
   "outputs": [
    {
     "name": "stderr",
     "output_type": "stream",
     "text": [
      "//anaconda3/lib/python3.7/site-packages/ipykernel_launcher.py:14: RuntimeWarning: divide by zero encountered in log\n",
      "  \n"
     ]
    },
    {
     "name": "stdout",
     "output_type": "stream",
     "text": [
      "[1.1525117326060106, 0.9975497590745104, 0.8716084930981489]\n"
     ]
    },
    {
     "data": {
      "text/html": [
       "<div>\n",
       "<style scoped>\n",
       "    .dataframe tbody tr th:only-of-type {\n",
       "        vertical-align: middle;\n",
       "    }\n",
       "\n",
       "    .dataframe tbody tr th {\n",
       "        vertical-align: top;\n",
       "    }\n",
       "\n",
       "    .dataframe thead th {\n",
       "        text-align: right;\n",
       "    }\n",
       "</style>\n",
       "<table border=\"1\" class=\"dataframe\">\n",
       "  <thead>\n",
       "    <tr style=\"text-align: right;\">\n",
       "      <th></th>\n",
       "      <th>Gene</th>\n",
       "      <th>sample1</th>\n",
       "      <th>sample2</th>\n",
       "      <th>sample3</th>\n",
       "    </tr>\n",
       "  </thead>\n",
       "  <tbody>\n",
       "    <tr>\n",
       "      <th>0</th>\n",
       "      <td>ENSG00000000003.13</td>\n",
       "      <td>59.869239</td>\n",
       "      <td>91.223520</td>\n",
       "      <td>1070.434728</td>\n",
       "    </tr>\n",
       "    <tr>\n",
       "      <th>1</th>\n",
       "      <td>ENSG00000000005.5</td>\n",
       "      <td>0.867670</td>\n",
       "      <td>10.024563</td>\n",
       "      <td>0.000000</td>\n",
       "    </tr>\n",
       "    <tr>\n",
       "      <th>2</th>\n",
       "      <td>ENSG00000000419.11</td>\n",
       "      <td>527.543436</td>\n",
       "      <td>1138.790311</td>\n",
       "      <td>1678.505902</td>\n",
       "    </tr>\n",
       "    <tr>\n",
       "      <th>3</th>\n",
       "      <td>ENSG00000000457.12</td>\n",
       "      <td>902.376931</td>\n",
       "      <td>1172.873823</td>\n",
       "      <td>1202.374700</td>\n",
       "    </tr>\n",
       "    <tr>\n",
       "      <th>4</th>\n",
       "      <td>ENSG00000000460.15</td>\n",
       "      <td>1084.587657</td>\n",
       "      <td>1356.323319</td>\n",
       "      <td>217.987779</td>\n",
       "    </tr>\n",
       "  </tbody>\n",
       "</table>\n",
       "</div>"
      ],
      "text/plain": [
       "                 Gene      sample1      sample2      sample3\n",
       "0  ENSG00000000003.13    59.869239    91.223520  1070.434728\n",
       "1   ENSG00000000005.5     0.867670    10.024563     0.000000\n",
       "2  ENSG00000000419.11   527.543436  1138.790311  1678.505902\n",
       "3  ENSG00000000457.12   902.376931  1172.873823  1202.374700\n",
       "4  ENSG00000000460.15  1084.587657  1356.323319   217.987779"
      ]
     },
     "execution_count": 1,
     "metadata": {},
     "output_type": "execute_result"
    }
   ],
   "source": [
    "import pandas as pd\n",
    "import numpy as np\n",
    "import statistics as stat\n",
    "\n",
    "#read dataset csv file  \n",
    "data= pd.read_csv('3Samples.csv')\n",
    "\n",
    "numberOfSamples = len(data.columns)  # this is number of samples + 1 (genes is the first column) \n",
    "numberOfGenes = len(data)\n",
    "\n",
    "#take log of all values\n",
    "dataLog = data.copy()\n",
    "for i in range(1,numberOfSamples):\n",
    "    dataLog['sample'+ str(i)] = np.log(data['sample'+ str(i)])\n",
    "    \n",
    "#calculate average of each gene\n",
    "genesAverage = []\n",
    "for i in range(0, numberOfGenes):\n",
    "    genesAverageList = []\n",
    "    for j in range(1,numberOfSamples):\n",
    "        genesAverageList.append(dataLog.loc[i,'sample'+ str(j)])\n",
    "    genesAverage.append(stat.mean(genesAverageList))\n",
    "    \n",
    "#add average as column in dataframe\n",
    "dataLog['average'] = genesAverage\n",
    "\n",
    "#filter infinite values\n",
    "dataLog = dataLog.replace([np.inf,-np.inf], np.nan)\n",
    "dataLog = dataLog.dropna()\n",
    "\n",
    "#subtract average from log(counts)\n",
    "for i in range(1,numberOfSamples):\n",
    "    dataLog['sample'+ str(i)] -= dataLog['average'] \n",
    "    \n",
    "#calculate scaling factor of each sample = exp(median())\n",
    "scalingFactors = []\n",
    "for i in range(1,numberOfSamples):\n",
    "    scalingFactors.append(np.exp(np.median(dataLog['sample'+ str(i)])))\n",
    "    \n",
    "#divide original read counts by the scaling factors\n",
    "for i in range(1,numberOfSamples):\n",
    "    data['sample'+ str(i)] /= scalingFactors[i-1]\n",
    "\n",
    "\n",
    "data.head()\n"
   ]
  },
  {
   "cell_type": "code",
   "execution_count": null,
   "metadata": {},
   "outputs": [],
   "source": []
  },
  {
   "cell_type": "code",
   "execution_count": null,
   "metadata": {},
   "outputs": [],
   "source": []
  },
  {
   "cell_type": "code",
   "execution_count": null,
   "metadata": {},
   "outputs": [],
   "source": []
  },
  {
   "cell_type": "code",
   "execution_count": null,
   "metadata": {},
   "outputs": [],
   "source": []
  }
 ],
 "metadata": {
  "kernelspec": {
   "display_name": "Python 3",
   "language": "python",
   "name": "python3"
  },
  "language_info": {
   "codemirror_mode": {
    "name": "ipython",
    "version": 3
   },
   "file_extension": ".py",
   "mimetype": "text/x-python",
   "name": "python",
   "nbconvert_exporter": "python",
   "pygments_lexer": "ipython3",
   "version": "3.7.3"
  }
 },
 "nbformat": 4,
 "nbformat_minor": 2
}
