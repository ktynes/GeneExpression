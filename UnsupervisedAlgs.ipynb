{
 "cells": [
  {
   "cell_type": "markdown",
   "metadata": {},
   "source": [
    "# Gene Expression - Unsupervised Learning"
   ]
  },
  {
   "cell_type": "markdown",
   "metadata": {},
   "source": [
    "## Description\n",
    "\n",
    "In this part of the project, we will use unsupervised learning algorithms, namely, DBSCAN, K-Means, and Mean Shift clustering algorithms both with and without PCA to analyze the Gene Expression dataset."
   ]
  },
  {
   "cell_type": "markdown",
   "metadata": {},
   "source": [
    "## Import Libraries"
   ]
  },
  {
   "cell_type": "code",
   "execution_count": 17,
   "metadata": {},
   "outputs": [],
   "source": [
    "import sklearn as sk\n",
    "from sklearn import cluster\n",
    "from sklearn import neighbors\n",
    "import numpy as np\n",
    "import sys\n",
    "import pandas as pd\n",
    "import matplotlib.pyplot as plt\n",
    "from itertools import cycle\n",
    "from sklearn.decomposition import PCA\n",
    "import matplotlib.ticker as tick"
   ]
  },
  {
   "cell_type": "markdown",
   "metadata": {},
   "source": [
    "## Load Data"
   ]
  },
  {
   "cell_type": "code",
   "execution_count": 3,
   "metadata": {},
   "outputs": [
    {
     "data": {
      "text/html": [
       "<div>\n",
       "<style scoped>\n",
       "    .dataframe tbody tr th:only-of-type {\n",
       "        vertical-align: middle;\n",
       "    }\n",
       "\n",
       "    .dataframe tbody tr th {\n",
       "        vertical-align: top;\n",
       "    }\n",
       "\n",
       "    .dataframe thead th {\n",
       "        text-align: right;\n",
       "    }\n",
       "</style>\n",
       "<table border=\"1\" class=\"dataframe\">\n",
       "  <thead>\n",
       "    <tr style=\"text-align: right;\">\n",
       "      <th></th>\n",
       "      <th>ENSG00000003400.13</th>\n",
       "      <th>ENSG00000003436.13</th>\n",
       "      <th>ENSG00000004866.17</th>\n",
       "      <th>ENSG00000005073.5</th>\n",
       "      <th>ENSG00000006747.13</th>\n",
       "      <th>ENSG00000007312.11</th>\n",
       "      <th>ENSG00000008735.13</th>\n",
       "      <th>ENSG00000010379.14</th>\n",
       "      <th>ENSG00000011105.10</th>\n",
       "      <th>ENSG00000011201.9</th>\n",
       "      <th>...</th>\n",
       "      <th>ENSG00000279019.1</th>\n",
       "      <th>ENSG00000279059.1</th>\n",
       "      <th>ENSG00000279141.2</th>\n",
       "      <th>ENSG00000279417.1</th>\n",
       "      <th>ENSG00000279685.2</th>\n",
       "      <th>ENSG00000279979.1</th>\n",
       "      <th>ENSG00000280002.1</th>\n",
       "      <th>ENSG00000280285.1</th>\n",
       "      <th>ENSG00000280366.1</th>\n",
       "      <th>CancerType</th>\n",
       "    </tr>\n",
       "  </thead>\n",
       "  <tbody>\n",
       "    <tr>\n",
       "      <th>0</th>\n",
       "      <td>273.0067</td>\n",
       "      <td>1461.5095</td>\n",
       "      <td>2230.2389</td>\n",
       "      <td>2671.5655</td>\n",
       "      <td>145.7404</td>\n",
       "      <td>84.1600</td>\n",
       "      <td>805.6776</td>\n",
       "      <td>7.1844</td>\n",
       "      <td>2565.8524</td>\n",
       "      <td>140.6087</td>\n",
       "      <td>...</td>\n",
       "      <td>2.0527</td>\n",
       "      <td>291.4808</td>\n",
       "      <td>10.2634</td>\n",
       "      <td>9.2371</td>\n",
       "      <td>26.6849</td>\n",
       "      <td>0.0000</td>\n",
       "      <td>1.0263</td>\n",
       "      <td>10.2634</td>\n",
       "      <td>0.0000</td>\n",
       "      <td>Kidney</td>\n",
       "    </tr>\n",
       "    <tr>\n",
       "      <th>1</th>\n",
       "      <td>15166.7122</td>\n",
       "      <td>180.7471</td>\n",
       "      <td>3386.0666</td>\n",
       "      <td>0.0000</td>\n",
       "      <td>8.5561</td>\n",
       "      <td>6592.4557</td>\n",
       "      <td>32.0853</td>\n",
       "      <td>38.5023</td>\n",
       "      <td>26.7377</td>\n",
       "      <td>0.0000</td>\n",
       "      <td>...</td>\n",
       "      <td>20.3207</td>\n",
       "      <td>129.4106</td>\n",
       "      <td>11.7646</td>\n",
       "      <td>0.0000</td>\n",
       "      <td>0.0000</td>\n",
       "      <td>2.1390</td>\n",
       "      <td>0.0000</td>\n",
       "      <td>1.0695</td>\n",
       "      <td>0.0000</td>\n",
       "      <td>Blood</td>\n",
       "    </tr>\n",
       "    <tr>\n",
       "      <th>2</th>\n",
       "      <td>1214.5779</td>\n",
       "      <td>5500.1455</td>\n",
       "      <td>2184.8384</td>\n",
       "      <td>32.0416</td>\n",
       "      <td>8495.0364</td>\n",
       "      <td>56.0728</td>\n",
       "      <td>47.0611</td>\n",
       "      <td>11432.8531</td>\n",
       "      <td>6141.9794</td>\n",
       "      <td>124.1613</td>\n",
       "      <td>...</td>\n",
       "      <td>28.0364</td>\n",
       "      <td>489.6361</td>\n",
       "      <td>5.0065</td>\n",
       "      <td>0.0000</td>\n",
       "      <td>166.2159</td>\n",
       "      <td>4.0052</td>\n",
       "      <td>4.0052</td>\n",
       "      <td>35.0455</td>\n",
       "      <td>127.1652</td>\n",
       "      <td>Kidney</td>\n",
       "    </tr>\n",
       "    <tr>\n",
       "      <th>3</th>\n",
       "      <td>855.4923</td>\n",
       "      <td>434.9517</td>\n",
       "      <td>745.4443</td>\n",
       "      <td>14.4110</td>\n",
       "      <td>757.2352</td>\n",
       "      <td>53.7139</td>\n",
       "      <td>216.1657</td>\n",
       "      <td>0.0000</td>\n",
       "      <td>3082.6546</td>\n",
       "      <td>1333.6772</td>\n",
       "      <td>...</td>\n",
       "      <td>3.9303</td>\n",
       "      <td>193.8941</td>\n",
       "      <td>0.0000</td>\n",
       "      <td>0.0000</td>\n",
       "      <td>0.0000</td>\n",
       "      <td>0.0000</td>\n",
       "      <td>0.0000</td>\n",
       "      <td>0.0000</td>\n",
       "      <td>0.0000</td>\n",
       "      <td>Breast</td>\n",
       "    </tr>\n",
       "    <tr>\n",
       "      <th>4</th>\n",
       "      <td>911.8692</td>\n",
       "      <td>435.1631</td>\n",
       "      <td>2990.0587</td>\n",
       "      <td>3.1157</td>\n",
       "      <td>206.6765</td>\n",
       "      <td>97.6261</td>\n",
       "      <td>7561.8677</td>\n",
       "      <td>5.1929</td>\n",
       "      <td>6562.7582</td>\n",
       "      <td>571.2165</td>\n",
       "      <td>...</td>\n",
       "      <td>7.2700</td>\n",
       "      <td>317.8041</td>\n",
       "      <td>6.2315</td>\n",
       "      <td>0.0000</td>\n",
       "      <td>0.0000</td>\n",
       "      <td>0.0000</td>\n",
       "      <td>0.0000</td>\n",
       "      <td>1.0386</td>\n",
       "      <td>0.0000</td>\n",
       "      <td>Breast</td>\n",
       "    </tr>\n",
       "    <tr>\n",
       "      <th>...</th>\n",
       "      <td>...</td>\n",
       "      <td>...</td>\n",
       "      <td>...</td>\n",
       "      <td>...</td>\n",
       "      <td>...</td>\n",
       "      <td>...</td>\n",
       "      <td>...</td>\n",
       "      <td>...</td>\n",
       "      <td>...</td>\n",
       "      <td>...</td>\n",
       "      <td>...</td>\n",
       "      <td>...</td>\n",
       "      <td>...</td>\n",
       "      <td>...</td>\n",
       "      <td>...</td>\n",
       "      <td>...</td>\n",
       "      <td>...</td>\n",
       "      <td>...</td>\n",
       "      <td>...</td>\n",
       "      <td>...</td>\n",
       "      <td>...</td>\n",
       "    </tr>\n",
       "    <tr>\n",
       "      <th>6719</th>\n",
       "      <td>1479.1539</td>\n",
       "      <td>1287.9565</td>\n",
       "      <td>2727.1901</td>\n",
       "      <td>0.0000</td>\n",
       "      <td>0.0000</td>\n",
       "      <td>689.1513</td>\n",
       "      <td>21.0107</td>\n",
       "      <td>1.0505</td>\n",
       "      <td>8.4043</td>\n",
       "      <td>0.0000</td>\n",
       "      <td>...</td>\n",
       "      <td>114.5084</td>\n",
       "      <td>197.5007</td>\n",
       "      <td>8.4043</td>\n",
       "      <td>3.1516</td>\n",
       "      <td>0.0000</td>\n",
       "      <td>0.0000</td>\n",
       "      <td>0.0000</td>\n",
       "      <td>1.0505</td>\n",
       "      <td>0.0000</td>\n",
       "      <td>Blood</td>\n",
       "    </tr>\n",
       "    <tr>\n",
       "      <th>6720</th>\n",
       "      <td>6556.4273</td>\n",
       "      <td>82.0940</td>\n",
       "      <td>3627.6679</td>\n",
       "      <td>0.0000</td>\n",
       "      <td>327.2667</td>\n",
       "      <td>3974.9034</td>\n",
       "      <td>48.8127</td>\n",
       "      <td>36.6095</td>\n",
       "      <td>35.5001</td>\n",
       "      <td>3.3281</td>\n",
       "      <td>...</td>\n",
       "      <td>17.7501</td>\n",
       "      <td>374.9700</td>\n",
       "      <td>7.7656</td>\n",
       "      <td>0.0000</td>\n",
       "      <td>0.0000</td>\n",
       "      <td>0.0000</td>\n",
       "      <td>0.0000</td>\n",
       "      <td>1.1094</td>\n",
       "      <td>0.0000</td>\n",
       "      <td>Blood</td>\n",
       "    </tr>\n",
       "    <tr>\n",
       "      <th>6721</th>\n",
       "      <td>1488.3376</td>\n",
       "      <td>7764.3197</td>\n",
       "      <td>1666.0495</td>\n",
       "      <td>7.4047</td>\n",
       "      <td>1336.0131</td>\n",
       "      <td>94.1450</td>\n",
       "      <td>41.2546</td>\n",
       "      <td>4.2312</td>\n",
       "      <td>3068.7046</td>\n",
       "      <td>474.9563</td>\n",
       "      <td>...</td>\n",
       "      <td>12.6937</td>\n",
       "      <td>220.0243</td>\n",
       "      <td>10.5781</td>\n",
       "      <td>0.0000</td>\n",
       "      <td>0.0000</td>\n",
       "      <td>0.0000</td>\n",
       "      <td>273.9726</td>\n",
       "      <td>5.2890</td>\n",
       "      <td>0.0000</td>\n",
       "      <td>Lung</td>\n",
       "    </tr>\n",
       "    <tr>\n",
       "      <th>6722</th>\n",
       "      <td>20891.5605</td>\n",
       "      <td>39.1641</td>\n",
       "      <td>2804.7553</td>\n",
       "      <td>2.0084</td>\n",
       "      <td>1723.2224</td>\n",
       "      <td>5793.2808</td>\n",
       "      <td>458.9234</td>\n",
       "      <td>51.2147</td>\n",
       "      <td>7.0295</td>\n",
       "      <td>3.0126</td>\n",
       "      <td>...</td>\n",
       "      <td>20.0842</td>\n",
       "      <td>226.9512</td>\n",
       "      <td>13.0547</td>\n",
       "      <td>1.0042</td>\n",
       "      <td>4.0168</td>\n",
       "      <td>2.0084</td>\n",
       "      <td>0.0000</td>\n",
       "      <td>1.0042</td>\n",
       "      <td>0.0000</td>\n",
       "      <td>Blood</td>\n",
       "    </tr>\n",
       "    <tr>\n",
       "      <th>6723</th>\n",
       "      <td>729.2187</td>\n",
       "      <td>162.0486</td>\n",
       "      <td>147.0441</td>\n",
       "      <td>3.0009</td>\n",
       "      <td>145.0435</td>\n",
       "      <td>2347.7042</td>\n",
       "      <td>124.0372</td>\n",
       "      <td>54.0162</td>\n",
       "      <td>74.0222</td>\n",
       "      <td>40.0120</td>\n",
       "      <td>...</td>\n",
       "      <td>109.0327</td>\n",
       "      <td>13.0039</td>\n",
       "      <td>24.0072</td>\n",
       "      <td>4.0012</td>\n",
       "      <td>8.0024</td>\n",
       "      <td>0.0000</td>\n",
       "      <td>18.0054</td>\n",
       "      <td>129.0387</td>\n",
       "      <td>13.0039</td>\n",
       "      <td>Blood</td>\n",
       "    </tr>\n",
       "  </tbody>\n",
       "</table>\n",
       "<p>6724 rows × 770 columns</p>\n",
       "</div>"
      ],
      "text/plain": [
       "      ENSG00000003400.13  ENSG00000003436.13  ENSG00000004866.17  \\\n",
       "0               273.0067           1461.5095           2230.2389   \n",
       "1             15166.7122            180.7471           3386.0666   \n",
       "2              1214.5779           5500.1455           2184.8384   \n",
       "3               855.4923            434.9517            745.4443   \n",
       "4               911.8692            435.1631           2990.0587   \n",
       "...                  ...                 ...                 ...   \n",
       "6719           1479.1539           1287.9565           2727.1901   \n",
       "6720           6556.4273             82.0940           3627.6679   \n",
       "6721           1488.3376           7764.3197           1666.0495   \n",
       "6722          20891.5605             39.1641           2804.7553   \n",
       "6723            729.2187            162.0486            147.0441   \n",
       "\n",
       "      ENSG00000005073.5  ENSG00000006747.13  ENSG00000007312.11  \\\n",
       "0             2671.5655            145.7404             84.1600   \n",
       "1                0.0000              8.5561           6592.4557   \n",
       "2               32.0416           8495.0364             56.0728   \n",
       "3               14.4110            757.2352             53.7139   \n",
       "4                3.1157            206.6765             97.6261   \n",
       "...                 ...                 ...                 ...   \n",
       "6719             0.0000              0.0000            689.1513   \n",
       "6720             0.0000            327.2667           3974.9034   \n",
       "6721             7.4047           1336.0131             94.1450   \n",
       "6722             2.0084           1723.2224           5793.2808   \n",
       "6723             3.0009            145.0435           2347.7042   \n",
       "\n",
       "      ENSG00000008735.13  ENSG00000010379.14  ENSG00000011105.10  \\\n",
       "0               805.6776              7.1844           2565.8524   \n",
       "1                32.0853             38.5023             26.7377   \n",
       "2                47.0611          11432.8531           6141.9794   \n",
       "3               216.1657              0.0000           3082.6546   \n",
       "4              7561.8677              5.1929           6562.7582   \n",
       "...                  ...                 ...                 ...   \n",
       "6719             21.0107              1.0505              8.4043   \n",
       "6720             48.8127             36.6095             35.5001   \n",
       "6721             41.2546              4.2312           3068.7046   \n",
       "6722            458.9234             51.2147              7.0295   \n",
       "6723            124.0372             54.0162             74.0222   \n",
       "\n",
       "      ENSG00000011201.9  ...  ENSG00000279019.1  ENSG00000279059.1  \\\n",
       "0              140.6087  ...             2.0527           291.4808   \n",
       "1                0.0000  ...            20.3207           129.4106   \n",
       "2              124.1613  ...            28.0364           489.6361   \n",
       "3             1333.6772  ...             3.9303           193.8941   \n",
       "4              571.2165  ...             7.2700           317.8041   \n",
       "...                 ...  ...                ...                ...   \n",
       "6719             0.0000  ...           114.5084           197.5007   \n",
       "6720             3.3281  ...            17.7501           374.9700   \n",
       "6721           474.9563  ...            12.6937           220.0243   \n",
       "6722             3.0126  ...            20.0842           226.9512   \n",
       "6723            40.0120  ...           109.0327            13.0039   \n",
       "\n",
       "      ENSG00000279141.2  ENSG00000279417.1  ENSG00000279685.2  \\\n",
       "0               10.2634             9.2371            26.6849   \n",
       "1               11.7646             0.0000             0.0000   \n",
       "2                5.0065             0.0000           166.2159   \n",
       "3                0.0000             0.0000             0.0000   \n",
       "4                6.2315             0.0000             0.0000   \n",
       "...                 ...                ...                ...   \n",
       "6719             8.4043             3.1516             0.0000   \n",
       "6720             7.7656             0.0000             0.0000   \n",
       "6721            10.5781             0.0000             0.0000   \n",
       "6722            13.0547             1.0042             4.0168   \n",
       "6723            24.0072             4.0012             8.0024   \n",
       "\n",
       "      ENSG00000279979.1  ENSG00000280002.1  ENSG00000280285.1  \\\n",
       "0                0.0000             1.0263            10.2634   \n",
       "1                2.1390             0.0000             1.0695   \n",
       "2                4.0052             4.0052            35.0455   \n",
       "3                0.0000             0.0000             0.0000   \n",
       "4                0.0000             0.0000             1.0386   \n",
       "...                 ...                ...                ...   \n",
       "6719             0.0000             0.0000             1.0505   \n",
       "6720             0.0000             0.0000             1.1094   \n",
       "6721             0.0000           273.9726             5.2890   \n",
       "6722             2.0084             0.0000             1.0042   \n",
       "6723             0.0000            18.0054           129.0387   \n",
       "\n",
       "      ENSG00000280366.1  CancerType  \n",
       "0                0.0000      Kidney  \n",
       "1                0.0000       Blood  \n",
       "2              127.1652      Kidney  \n",
       "3                0.0000      Breast  \n",
       "4                0.0000      Breast  \n",
       "...                 ...         ...  \n",
       "6719             0.0000       Blood  \n",
       "6720             0.0000       Blood  \n",
       "6721             0.0000        Lung  \n",
       "6722             0.0000       Blood  \n",
       "6723            13.0039       Blood  \n",
       "\n",
       "[6724 rows x 770 columns]"
      ]
     },
     "execution_count": 3,
     "metadata": {},
     "output_type": "execute_result"
    }
   ],
   "source": [
    "data = pd.read_csv(\"combinedFiltered.csv\")\n",
    "data"
   ]
  },
  {
   "cell_type": "markdown",
   "metadata": {},
   "source": [
    "## Preprocessing"
   ]
  },
  {
   "cell_type": "code",
   "execution_count": 36,
   "metadata": {},
   "outputs": [
    {
     "data": {
      "text/plain": [
       "array([2, 1, 2, ..., 3, 1, 1], dtype=object)"
      ]
     },
     "execution_count": 36,
     "metadata": {},
     "output_type": "execute_result"
    }
   ],
   "source": [
    "X = data.iloc[:,:-1]\n",
    "y = data.iloc[:,-1]\n",
    "y_binary = np.array(y)\n",
    "\n",
    "y_binary[y_binary == 'Breast'] = 0\n",
    "y_binary[y_binary == 'Blood'] = 1\n",
    "y_binary[y_binary == 'Kidney'] = 2\n",
    "y_binary[y_binary == 'Lung'] = 3\n",
    "\n",
    "y_binary"
   ]
  },
  {
   "cell_type": "markdown",
   "metadata": {},
   "source": [
    "## Cancer Type Graphs"
   ]
  },
  {
   "cell_type": "code",
   "execution_count": 4,
   "metadata": {},
   "outputs": [
    {
     "data": {
      "image/png": "[encoded data removed]",
      "text/plain": [
       "<Figure size 324x216 with 1 Axes>"
      ]
     },
     "metadata": {
      "needs_background": "light"
     },
     "output_type": "display_data"
    }
   ],
   "source": [
    "plt.figure(figsize=(4.5, 3))\n",
    "objects = ('Blood', 'Breast', 'Kidney', 'Lung')\n",
    "y_pos = np.arange(len(objects))\n",
    "blood = len(data[(data['CancerType']=='Blood')])\n",
    "breast = len(data[(data['CancerType']=='Breast')])\n",
    "kidney = len(data[(data['CancerType']=='Kidney')])\n",
    "lung = len(data[(data['CancerType']=='Lung')])\n",
    "performance = np.array([blood,breast,kidney,lung])\n",
    "total = blood + breast + kidney + lung\n",
    "percents = np.round((performance/total)*100,1)\n",
    "\n",
    "def autolabel(rects):\n",
    "    for idx,rect in enumerate(percent_bar):\n",
    "        height = rect.get_height()\n",
    "        plt.text(rect.get_x() + rect.get_width()/2., 0.5*height,\n",
    "                percents[idx],\n",
    "                ha='center', va='bottom', rotation=0)\n",
    "\n",
    "percent_bar = plt.bar(y_pos, percents, align='center', color=['red', 'green', 'blue', 'cyan'])\n",
    "#alpha=0.5)\n",
    "plt.xticks(y_pos, objects)\n",
    "plt.ylabel('Percent Composition')\n",
    "plt.title('Cancer Type Percent Composition (2019)')\n",
    "\n",
    "autolabel(percent_bar)\n",
    "\n",
    "#plt.savefig('images/Unsupervised_Algs/percentcomp2019_histogram.png')\n",
    "plt.show()"
   ]
  },
  {
   "cell_type": "markdown",
   "metadata": {},
   "source": [
    "## PCA"
   ]
  },
  {
   "cell_type": "code",
   "execution_count": 13,
   "metadata": {},
   "outputs": [
    {
     "data": {
      "text/plain": [
       "array([[ -41980.75199742,   48466.59368682],\n",
       "       [-100083.88003161, -133269.50103704],\n",
       "       [ -93554.55167379,  -99292.6939054 ],\n",
       "       ...,\n",
       "       [ 141020.52501679,   91523.72466194],\n",
       "       [-101070.93392709, -134478.62049537],\n",
       "       [-100036.95279502, -133830.00460755]])"
      ]
     },
     "execution_count": 13,
     "metadata": {},
     "output_type": "execute_result"
    }
   ],
   "source": [
    "pca = PCA(n_components=2)\n",
    "pca.fit(np.array(X))\n",
    "X_new = pca.transform(X)\n",
    "#X_new = pd.DataFrame(X_new)\n",
    "X_new"
   ]
  },
  {
   "cell_type": "markdown",
   "metadata": {},
   "source": [
    "## Compute KMeans"
   ]
  },
  {
   "cell_type": "code",
   "execution_count": 28,
   "metadata": {},
   "outputs": [
    {
     "name": "stdout",
     "output_type": "stream",
     "text": [
      "Number of Clusters =  4\n",
      "--------------------------------------------------------------\n",
      "Cluster Centers:  [[ -48526.11046919  -54499.05332714]\n",
      " [-296265.94116075 -888917.1781985 ]\n",
      " [ 116742.04552807  521507.31024516]\n",
      " [1537664.72707554 -411610.95770558]]\n",
      "Labels:  [0 0 0 ... 0 0 0]\n",
      "Unique Labels:  [0 1 2 3]\n",
      "--------------------------------------------------------------\n"
     ]
    },
    {
     "data": {
      "image/png": "[encoded data removed]",
      "text/plain": [
       "<Figure size 432x288 with 1 Axes>"
      ]
     },
     "metadata": {
      "needs_background": "light"
     },
     "output_type": "display_data"
    }
   ],
   "source": [
    "k_values = np.array([4])\n",
    "for k in k_values:\n",
    "    km = sk.cluster.KMeans(n_clusters = k, init='random',n_init=1,max_iter=300,tol=1e-04,random_state=0)\n",
    "    y_km = km.fit_predict(X_new)\n",
    "\n",
    "    centers = km.cluster_centers_\n",
    "    labels = km.labels_\n",
    "    inertia = km.inertia_\n",
    "    print('Number of Clusters = ',k)\n",
    "    print('--------------------------------------------------------------')\n",
    "    print('Cluster Centers: ',centers)\n",
    "    print('Labels: ',labels)\n",
    "    print('Unique Labels: ',np.unique(labels))\n",
    "    plt.scatter(X_new[:, 1], X_new[:, 0], c=y_km, s=50, cmap='viridis')\n",
    "    plt.scatter(centers[:, 1], centers[:, 0], c='black', s=50, alpha=1);\n",
    "    print('--------------------------------------------------------------')\n",
    "    \n",
    "def y_fmt(tick_val, pos):\n",
    "    if np.abs(tick_val) >= 1000000:\n",
    "        val = int(tick_val)/1000000\n",
    "        return '{:.1f} M'.format(val)\n",
    "    elif np.abs(tick_val) >= 1000:\n",
    "        val = int(tick_val) / 1000\n",
    "        return '{:.1f} K'.format(val)\n",
    "    else:\n",
    "        return tick_val\n",
    "ax = plt.gca()\n",
    "ax.yaxis.set_major_formatter(tick.FuncFormatter(y_fmt))\n",
    "ax.xaxis.set_major_formatter(tick.FuncFormatter(y_fmt))"
   ]
  },
  {
   "cell_type": "markdown",
   "metadata": {},
   "source": [
    "## Ground Truth Scatter Plot"
   ]
  },
  {
   "cell_type": "code",
   "execution_count": 39,
   "metadata": {},
   "outputs": [
    {
     "data": {
      "image/png": "[encoded data removed]",
      "text/plain": [
       "<Figure size 432x288 with 1 Axes>"
      ]
     },
     "metadata": {
      "needs_background": "light"
     },
     "output_type": "display_data"
    }
   ],
   "source": [
    "plt.scatter(X_new[:,1],X_new[:,0], c=y_binary, s=50, cmap='viridis')\n",
    "ax = plt.gca()\n",
    "ax.yaxis.set_major_formatter(tick.FuncFormatter(y_fmt))\n",
    "ax.xaxis.set_major_formatter(tick.FuncFormatter(y_fmt))"
   ]
  },
  {
   "cell_type": "markdown",
   "metadata": {},
   "source": [
    "## KMeans Elbow Method"
   ]
  },
  {
   "cell_type": "code",
   "execution_count": 15,
   "metadata": {},
   "outputs": [
    {
     "data": {
      "image/png": "[encoded data removed]",
      "text/plain": [
       "<Figure size 432x288 with 1 Axes>"
      ]
     },
     "metadata": {
      "needs_background": "light"
     },
     "output_type": "display_data"
    }
   ],
   "source": [
    "Sum_of_squared_distances = []\n",
    "K = range(1,15)\n",
    "for k in K:\n",
    "    km = sk.cluster.KMeans(n_clusters=k)\n",
    "    km = km.fit(X)\n",
    "    Sum_of_squared_distances.append(km.inertia_)\n",
    "    \n",
    "plt.plot(K, Sum_of_squared_distances, 'bx-')\n",
    "plt.xlabel('k')\n",
    "plt.ylabel('Sum_of_squared_distances')\n",
    "plt.title('Elbow Method For Optimal k')\n",
    "plt.show()"
   ]
  },
  {
   "cell_type": "code",
   "execution_count": null,
   "metadata": {},
   "outputs": [],
   "source": []
  }
 ],
 "metadata": {
  "kernelspec": {
   "display_name": "Python 3",
   "language": "python",
   "name": "python3"
  },
  "language_info": {
   "codemirror_mode": {
    "name": "ipython",
    "version": 3
   },
   "file_extension": ".py",
   "mimetype": "text/x-python",
   "name": "python",
   "nbconvert_exporter": "python",
   "pygments_lexer": "ipython3",
   "version": "3.7.3"
  }
 },
 "nbformat": 4,
 "nbformat_minor": 4
}
